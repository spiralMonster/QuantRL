{
 "cells": [
  {
   "cell_type": "code",
   "execution_count": 56,
   "id": "98367a35-7537-4043-a892-3b8330f4ed91",
   "metadata": {},
   "outputs": [],
   "source": [
    "x=0.5\n",
    "new=102\n",
    "prev=100"
   ]
  },
  {
   "cell_type": "code",
   "execution_count": 58,
   "id": "d1a21225-3237-47e6-9f91-2eda63c42c6b",
   "metadata": {},
   "outputs": [
    {
     "data": {
      "text/plain": [
       "101.5"
      ]
     },
     "execution_count": 58,
     "metadata": {},
     "output_type": "execute_result"
    }
   ],
   "source": [
    "100*0.5*102/100+100*0.5*101/100"
   ]
  },
  {
   "cell_type": "code",
   "execution_count": 60,
   "id": "521b6cd9-775c-496d-8e17-ba0bd69c6b43",
   "metadata": {},
   "outputs": [
    {
     "ename": "NameError",
     "evalue": "name 'agent' is not defined",
     "output_type": "error",
     "traceback": [
      "\u001b[31m---------------------------------------------------------------------------\u001b[39m",
      "\u001b[31mNameError\u001b[39m                                 Traceback (most recent call last)",
      "\u001b[36mCell\u001b[39m\u001b[36m \u001b[39m\u001b[32mIn[60]\u001b[39m\u001b[32m, line 1\u001b[39m\n\u001b[32m----> \u001b[39m\u001b[32m1\u001b[39m \u001b[38;5;28mself\u001b[39m=\u001b[43magent\u001b[49m\n",
      "\u001b[31mNameError\u001b[39m: name 'agent' is not defined"
     ]
    }
   ],
   "source": [
    "self=agent"
   ]
  },
  {
   "cell_type": "code",
   "execution_count": 61,
   "id": "5af938e2-4df1-4db0-94b6-2b6e84fb4a41",
   "metadata": {},
   "outputs": [
    {
     "ename": "NameError",
     "evalue": "name 'self' is not defined",
     "output_type": "error",
     "traceback": [
      "\u001b[31m---------------------------------------------------------------------------\u001b[39m",
      "\u001b[31mNameError\u001b[39m                                 Traceback (most recent call last)",
      "\u001b[36mCell\u001b[39m\u001b[36m \u001b[39m\u001b[32mIn[61]\u001b[39m\u001b[32m, line 1\u001b[39m\n\u001b[32m----> \u001b[39m\u001b[32m1\u001b[39m time_steps=[\u001b[38;5;28mrange\u001b[39m(\u001b[32m1\u001b[39m,\u001b[38;5;28;43mself\u001b[39;49m.env.steps+\u001b[32m1\u001b[39m)]\n\u001b[32m      3\u001b[39m data=\u001b[38;5;28mself\u001b[39m.env.final_data[[\u001b[33m\"\u001b[39m\u001b[33mXt\u001b[39m\u001b[33m\"\u001b[39m,\u001b[33m\"\u001b[39m\u001b[33mYt\u001b[39m\u001b[33m\"\u001b[39m]]\n\u001b[32m      4\u001b[39m data[\u001b[33m\"\u001b[39m\u001b[33mPortfolio_Value\u001b[39m\u001b[33m\"\u001b[39m]=\u001b[38;5;28mself\u001b[39m.env.pvalue\n",
      "\u001b[31mNameError\u001b[39m: name 'self' is not defined"
     ]
    }
   ],
   "source": [
    "time_steps=[range(1,self.env.steps+1)]\n",
    "\n",
    "data=self.env.final_data[[\"Xt\",\"Yt\"]]\n",
    "data[\"Portfolio_Value\"]=self.env.pvalue\n",
    "data.index=time_steps\n",
    "\n",
    "data.plot(figsize=(10,6),style=[\"b\",\"g\",\"r\"])\n",
    "plt.xlabel(\"Time steps\")\n",
    "plt.ylabel(\"Price\")\n",
    "plt.legend()\n",
    "plt.title(\"Testing| Time VS (Risk Asset VS Risk Free Asset VS Portfolio) Price\")\n",
    "plt.show()\n",
    "\n",
    "plt.plot(time_steps,self.env.pl,lw=1.0,c=\"b\")\n",
    "plt.xlabel(\"Time Steps\")\n",
    "plt.ylabel(\"Profit-Loss\")\n",
    "plt.xlim(0,self.env.steps+2)\n",
    "plt.ylim(min(self.env.pl),max(self.env.pl))\n",
    "plt.title(\"Testing| Time Steps VS Profit-Loss\")\n",
    "plt.show()\n",
    "\n",
    "plt.plot(time_steps,self.env.pl_percent,lw=1.0,c=\"g\")\n",
    "plt.xlabel(\"Time Steps\")\n",
    "plt.ylabel(\"Profit-Loss%\")\n",
    "plt.xlim(0,self.env.steps+2)\n",
    "plt.ylim(min(self.env.pl_percent),max(self.env.pl_percent))\n",
    "plt.title(\"Testing| Time Steps VS Profit-Loss%\")\n",
    "plt.show\n",
    "\n",
    "plt.plot(time_steps,self.env.xt_values,lw=1.0,c='c')\n",
    "plt.xlabel(\"Time Steps\")\n",
    "plt.ylabel(\"Weight\")\n",
    "plt.xlim(0,self.env.steps+2)\n",
    "self.ylim(0,1)\n",
    "self.title(\"Testing| Time Steps VS Risk Asset Weight in Portfolio\")\n",
    "plt.show()"
   ]
  },
  {
   "cell_type": "code",
   "execution_count": 62,
   "id": "f8f454f4-4267-4c40-80b8-bc08ef4aa667",
   "metadata": {},
   "outputs": [],
   "source": [
    "a=[1,2,3,4,5,6]"
   ]
  },
  {
   "cell_type": "code",
   "execution_count": 63,
   "id": "e6584337-48d9-4b1d-8273-b9a681b6c58b",
   "metadata": {},
   "outputs": [],
   "source": [
    "d=pd.DataFrame(a,columns=[\"A\"])"
   ]
  },
  {
   "cell_type": "code",
   "execution_count": 64,
   "id": "509e2964-388f-458b-b300-a4fc7a7c95f6",
   "metadata": {},
   "outputs": [
    {
     "data": {
      "text/html": [
       "<div>\n",
       "<style scoped>\n",
       "    .dataframe tbody tr th:only-of-type {\n",
       "        vertical-align: middle;\n",
       "    }\n",
       "\n",
       "    .dataframe tbody tr th {\n",
       "        vertical-align: top;\n",
       "    }\n",
       "\n",
       "    .dataframe thead th {\n",
       "        text-align: right;\n",
       "    }\n",
       "</style>\n",
       "<table border=\"1\" class=\"dataframe\">\n",
       "  <thead>\n",
       "    <tr style=\"text-align: right;\">\n",
       "      <th></th>\n",
       "      <th>A</th>\n",
       "    </tr>\n",
       "  </thead>\n",
       "  <tbody>\n",
       "    <tr>\n",
       "      <th>0</th>\n",
       "      <td>1</td>\n",
       "    </tr>\n",
       "    <tr>\n",
       "      <th>1</th>\n",
       "      <td>2</td>\n",
       "    </tr>\n",
       "    <tr>\n",
       "      <th>2</th>\n",
       "      <td>3</td>\n",
       "    </tr>\n",
       "    <tr>\n",
       "      <th>3</th>\n",
       "      <td>4</td>\n",
       "    </tr>\n",
       "    <tr>\n",
       "      <th>4</th>\n",
       "      <td>5</td>\n",
       "    </tr>\n",
       "    <tr>\n",
       "      <th>5</th>\n",
       "      <td>6</td>\n",
       "    </tr>\n",
       "  </tbody>\n",
       "</table>\n",
       "</div>"
      ],
      "text/plain": [
       "   A\n",
       "0  1\n",
       "1  2\n",
       "2  3\n",
       "3  4\n",
       "4  5\n",
       "5  6"
      ]
     },
     "execution_count": 64,
     "metadata": {},
     "output_type": "execute_result"
    }
   ],
   "source": [
    "d"
   ]
  },
  {
   "cell_type": "code",
   "execution_count": 74,
   "id": "bf232340-7652-4cb3-86a9-16e242a888c2",
   "metadata": {},
   "outputs": [],
   "source": [
    "ind=[2,4,6,8,10,12]"
   ]
  },
  {
   "cell_type": "code",
   "execution_count": 75,
   "id": "671274a0-5359-4fb7-80bd-8d0830cbd7fb",
   "metadata": {},
   "outputs": [],
   "source": [
    "d.index=ind"
   ]
  },
  {
   "cell_type": "code",
   "execution_count": 76,
   "id": "39984e3d-04e3-4c2e-ab48-fa0144a4feed",
   "metadata": {},
   "outputs": [
    {
     "data": {
      "text/html": [
       "<div>\n",
       "<style scoped>\n",
       "    .dataframe tbody tr th:only-of-type {\n",
       "        vertical-align: middle;\n",
       "    }\n",
       "\n",
       "    .dataframe tbody tr th {\n",
       "        vertical-align: top;\n",
       "    }\n",
       "\n",
       "    .dataframe thead th {\n",
       "        text-align: right;\n",
       "    }\n",
       "</style>\n",
       "<table border=\"1\" class=\"dataframe\">\n",
       "  <thead>\n",
       "    <tr style=\"text-align: right;\">\n",
       "      <th></th>\n",
       "      <th>A</th>\n",
       "    </tr>\n",
       "  </thead>\n",
       "  <tbody>\n",
       "    <tr>\n",
       "      <th>2</th>\n",
       "      <td>1</td>\n",
       "    </tr>\n",
       "    <tr>\n",
       "      <th>4</th>\n",
       "      <td>2</td>\n",
       "    </tr>\n",
       "    <tr>\n",
       "      <th>6</th>\n",
       "      <td>3</td>\n",
       "    </tr>\n",
       "    <tr>\n",
       "      <th>8</th>\n",
       "      <td>4</td>\n",
       "    </tr>\n",
       "    <tr>\n",
       "      <th>10</th>\n",
       "      <td>5</td>\n",
       "    </tr>\n",
       "    <tr>\n",
       "      <th>12</th>\n",
       "      <td>6</td>\n",
       "    </tr>\n",
       "  </tbody>\n",
       "</table>\n",
       "</div>"
      ],
      "text/plain": [
       "    A\n",
       "2   1\n",
       "4   2\n",
       "6   3\n",
       "8   4\n",
       "10  5\n",
       "12  6"
      ]
     },
     "execution_count": 76,
     "metadata": {},
     "output_type": "execute_result"
    }
   ],
   "source": [
    "d"
   ]
  },
  {
   "cell_type": "code",
   "execution_count": 77,
   "id": "f3138b9e-19f5-4888-9bba-127859a1eca8",
   "metadata": {},
   "outputs": [
    {
     "data": {
      "text/plain": [
       "<Axes: >"
      ]
     },
     "execution_count": 77,
     "metadata": {},
     "output_type": "execute_result"
    },
    {
     "data": {
      "image/png": "[encoded data removed]",
      "text/plain": [
       "<Figure size 640x480 with 1 Axes>"
      ]
     },
     "metadata": {},
     "output_type": "display_data"
    }
   ],
   "source": [
    "d.plot()"
   ]
  },
  {
   "cell_type": "code",
   "execution_count": null,
   "id": "a94c7597-68e3-4c8e-9bb2-d83bd3fe1b07",
   "metadata": {},
   "outputs": [],
   "source": []
  }
 ],
 "metadata": {
  "kernelspec": {
   "display_name": "Python 3.11.9 (Refinitiv)",
   "language": "python",
   "name": "py3119_refinitiv"
  },
  "language_info": {
   "codemirror_mode": {
    "name": "ipython",
    "version": 3
   },
   "file_extension": ".py",
   "mimetype": "text/x-python",
   "name": "python",
   "nbconvert_exporter": "python",
   "pygments_lexer": "ipython3",
   "version": "3.11.9"
  }
 },
 "nbformat": 4,
 "nbformat_minor": 5
}
